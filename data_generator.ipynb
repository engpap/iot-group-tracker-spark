{
 "cells": [
  {
   "cell_type": "markdown",
   "metadata": {},
   "source": [
    "### Device\n",
    "- deviceID: Unique identifier for each device\n",
    "- age: Age of the device\n",
    "- nationality: Nationality associated with the device\n",
    "\n",
    "### Group Formation Notification\n",
    "- groupID: Identifier for a group\n",
    "- list of deviceIDs: List of devices in the group\n",
    "- timestamp: Time when the group was formed\n",
    "\n",
    "### Group Change Notification\n",
    "- groupID: Identifier for a group\n",
    "- changed deviceID: ID of the device that joined or left\n",
    "- change type: Type of change (join or leave)\n",
    "- timestamp: Time when the change occurred\n",
    "\n",
    "### Group Disbandment Notification\n",
    "- groupID: Identifier for the group\n",
    "- timestamp: Time when the group was disbanded"
   ]
  },
  {
   "cell_type": "code",
   "execution_count": 7,
   "metadata": {},
   "outputs": [
    {
     "data": {
      "text/plain": [
       "\"\\n# Generate sample data for Group Formation Notification\\ngroup_formation_data = {\\n    'group_id': [str(uuid.uuid4()) for _ in range(30)],\\n    'deviceIDs_list': [random.sample(device_data['device_id'], random.randint(2, 10)) for _ in range(30)],\\n    'timestamp': [random_timestamp() for _ in range(30)]\\n}\\n\\n# Generate sample data for Group Change Notification\\ngroup_change_data = {\\n    'group_id': random.sample(group_formation_data['group_id'], 20),\\n    'changed_device_id': [random.choice(device_data['device_id']) for _ in range(20)],\\n    'change_type': [random.choice(['join', 'leave']) for _ in range(20)],\\n    'timestamp': [random_timestamp() for _ in range(20)]\\n}\\n\\n# Generate sample data for Group Disbandment Notification\\ngroup_disbandment_data = {\\n    'group_id': random.sample(group_formation_data['group_id'], 20),\\n    'timestamp': [random_timestamp() for _ in range(20)]\\n}\""
      ]
     },
     "execution_count": 7,
     "metadata": {},
     "output_type": "execute_result"
    }
   ],
   "source": [
    "import pandas as pd\n",
    "import random\n",
    "import uuid\n",
    "from datetime import datetime, timedelta\n",
    "\n",
    "# generate random timestamp between 2 years ago and 1 year ago\n",
    "def random_timestamp(start, end):\n",
    "    return start + (end - start) * random.random()\n",
    "\n",
    "# generate sample data for Device\n",
    "device_data = {\n",
    "    'device_id': [str(uuid.uuid4()) for _ in range(100)],\n",
    "    'age': [random.randint(1, 10) for _ in range(100)],\n",
    "    'nationality': [random.choice(['USA', 'Canada', 'UK', 'Australia', 'India']) for _ in range(100)]\n",
    "}\n",
    "'''\n",
    "# generate sample data for Group Formation Notification\n",
    "group_formation_data = {\n",
    "    'group_id': [str(uuid.uuid4()) for _ in range(30)],\n",
    "    'deviceIDs_list': [random.sample(device_data['device_id'], random.randint(2, 10)) for _ in range(30)],\n",
    "    'timestamp': [random_timestamp() for _ in range(30)]\n",
    "}\n",
    "\n",
    "# generate sample data for Group Change Notification\n",
    "group_change_data = {\n",
    "    'group_id': random.sample(group_formation_data['group_id'], 20),\n",
    "    'changed_device_id': [random.choice(device_data['device_id']) for _ in range(20)],\n",
    "    'change_type': [random.choice(['join', 'leave']) for _ in range(20)],\n",
    "    'timestamp': [random_timestamp() for _ in range(20)]\n",
    "}\n",
    "\n",
    "# generate sample data for Group Disbandment Notification\n",
    "group_disbandment_data = {\n",
    "    'group_id': random.sample(group_formation_data['group_id'], 20),\n",
    "    'timestamp': [random_timestamp() for _ in range(20)]\n",
    "}'''"
   ]
  },
  {
   "cell_type": "code",
   "execution_count": 14,
   "metadata": {},
   "outputs": [],
   "source": [
    "group_data = {\n",
    "    'group_id': [str(uuid.uuid4()) for _ in range(30)],\n",
    "    'deviceIDs_list': [random.sample(device_data['device_id'], random.randint(2, 10)) for _ in range(30)],\n",
    "    'created_at': [random_timestamp(start=datetime.now() - timedelta(days=365*2), end=datetime.now() - timedelta(days=365)) for _ in range(30)],\n",
    "    # updated_at is None if the group has not been updated otherwise it is the timestamp when the group was last updated\n",
    "    'updated_at': [random_timestamp(start=datetime.now() - timedelta(days=365), end=datetime.now()) if random.random() > 0.5 else None for _ in range(30)],\n",
    "    # deleted at is None if the group is still active otherwise it is the timestamp when the group was disbanded\n",
    "    'deleted_at': [random_timestamp(start=datetime.now() - timedelta(days=10), end=datetime.now()) if random.random() > 0.5 else None for _ in range(30)]\n",
    "}\n",
    "group_df = pd.DataFrame(group_data)\n",
    "group_df.to_csv('groups.csv', index=False)"
   ]
  },
  {
   "cell_type": "code",
   "execution_count": null,
   "metadata": {},
   "outputs": [],
   "source": []
  }
 ],
 "metadata": {
  "kernelspec": {
   "display_name": "base",
   "language": "python",
   "name": "python3"
  },
  "language_info": {
   "codemirror_mode": {
    "name": "ipython",
    "version": 3
   },
   "file_extension": ".py",
   "mimetype": "text/x-python",
   "name": "python",
   "nbconvert_exporter": "python",
   "pygments_lexer": "ipython3",
   "version": "3.11.4"
  }
 },
 "nbformat": 4,
 "nbformat_minor": 2
}
